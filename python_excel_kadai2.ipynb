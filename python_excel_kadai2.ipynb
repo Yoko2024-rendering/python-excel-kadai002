{
  "nbformat": 4,
  "nbformat_minor": 0,
  "metadata": {
    "colab": {
      "provenance": []
    },
    "kernelspec": {
      "name": "python3",
      "display_name": "Python 3"
    },
    "language_info": {
      "name": "python"
    }
  },
  "cells": [
    {
      "cell_type": "code",
      "execution_count": 19,
      "metadata": {
        "id": "-yOU9sTBBIEF"
      },
      "outputs": [],
      "source": [
        "import pandas as pd\n",
        "\n",
        "# データを定義する\n",
        "df = pd.DataFrame(data={\n",
        "    '日付': pd.to_datetime(['2023-05-17', '2023-05-18', '2023-05-19', '2023-05-20', '2023-05-21']),\n",
        "    '社員名': ['山田', '佐藤', '鈴木', '田中', '高橋'],\n",
        "    '売上': [100, 200, 150, 300, 250],  # 数値に修正\n",
        "    '部門': ['メーカー', '代理店', 'メーカー', '商社', '代理店'],\n",
        "})\n",
        "\n",
        "# 平均売上を算出し、新しい列「平均売上」を作成（全体の平均を各行に適用）\n",
        "df['平均売上'] = df['売上'].mean()\n",
        "\n",
        "# 業績ランクの関数「performance」を定義\n",
        "def performance(uriage):\n",
        "    result = ''\n",
        "    if uriage >= 250:\n",
        "        result = 'A'\n",
        "    elif uriage >= 200:\n",
        "        result = 'B'\n",
        "    else:\n",
        "        result = 'C'\n",
        "    return result\n",
        "\n",
        "# 業績ランクの列を作成\n",
        "df['業績ランク'] = df['売上'].apply(performance)\n",
        "\n",
        "# Excelファイルを作成する\n",
        "writer = pd.ExcelWriter('業績.xlsx')\n",
        "\n",
        "# DataFrameオブジェクトをExcelファイルに書き込む\n",
        "df.to_excel(writer, sheet_name='Sheet1', index=False)\n",
        "\n",
        "# Excelファイルを保存する\n",
        "writer.close()"
      ]
    }
  ]
}